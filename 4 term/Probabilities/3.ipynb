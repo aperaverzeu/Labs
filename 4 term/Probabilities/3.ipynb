{
 "cells": [
  {
   "cell_type": "code",
   "execution_count": 8,
   "metadata": {
    "collapsed": true
   },
   "outputs": [
    {
     "name": "stdout",
     "output_type": "stream",
     "text": [
      "77.84134011697103\n",
      "597.6795054990433\n"
     ]
    }
   ],
   "source": [
    "from random import random\n",
    "import matplotlib.pyplot as plt\n",
    "import numpy as np\n",
    "from scipy import stats\n",
    "\n",
    "from ipywidgets import interact_manual, fixed\n",
    "\n",
    "mX = 2\n",
    "sigmaX = 3 * np.sqrt(3)\n",
    "y0 = 2\n",
    "\n",
    "# (a+b)/2 = mX, (b-a)/sqrt(12) = sigmaX\n",
    "a = -7\n",
    "b = 11\n",
    "\n",
    "def fi(x):\n",
    "    return np.arctan(x)\n",
    "\n",
    "def ksi(y):\n",
    "    return np.tan(y)\n",
    "\n",
    "def get_x():\n",
    "    return random() * (b - a) + a\n",
    "\n",
    "def get_y():\n",
    "    return fi(get_x())\n",
    "\n",
    "def var_series(get_var_series, n) -> list:\n",
    "    \"\"\"\n",
    "    :param get_var_series: func return random value\n",
    "    :param n: number of elements\n",
    "    :return: variation series\n",
    "    \"\"\"\n",
    "\n",
    "    l = []\n",
    "\n",
    "    for i in range(n):\n",
    "        l.append(get_var_series())\n",
    "\n",
    "    l.sort()\n",
    "    return l\n",
    "\n",
    "# arctan(-7) -> arctan(11)\n",
    "def F(y):\n",
    "    return (np.tan(y) - 7) / 18\n",
    "\n",
    "'''\n",
    "проверить выборку на соответствие теор закон распр по критерию согласия {}\n",
    "'''\n",
    "\n",
    "def get_empiric_function_dist_values(ser):\n",
    "    all = len(ser)\n",
    "    y = [0] + [cur / all for cur in range(all)] + [1]\n",
    "    x = [fi(a)] + [y_ for y_ in ser] + [fi(b)]\n",
    "    return x, y\n",
    "\n",
    "def get_dmax(x, y):\n",
    "    result = 0\n",
    "    for i in range(1, len(x)):\n",
    "        result = max(abs(F(x[i - 1]) - y[i]), result)\n",
    "        result = max(abs(F(x[i]) - y[i]), result)\n",
    "\n",
    "    result = max(abs(F(x[0]) - y[0]), result)\n",
    "    return result\n",
    "\n",
    "def kolmogorov_criteria(variation_series: list):\n",
    "    x, y = get_empiric_function_dist_values(variation_series)\n",
    "    return np.sqrt(len(variation_series)) * get_dmax(x, y)\n",
    "\n",
    "print(kolmogorov_criteria(var_series(get_y, 10000)))\n",
    "\n",
    "def mises(variation_series: list):\n",
    "    n = len(variation_series)\n",
    "    s = 0\n",
    "    for i in range(n):\n",
    "        s = s + (F(variation_series[i]) - (i + 0.5)/n) ** 2\n",
    "    return 1/(12*n) + s\n",
    "\n",
    "print(mises(var_series(get_y, 1000)))"
   ]
  }
 ],
 "metadata": {
  "kernelspec": {
   "display_name": "Python 3",
   "language": "python",
   "name": "python3"
  },
  "language_info": {
   "codemirror_mode": {
    "name": "ipython",
    "version": 2
   },
   "file_extension": ".py",
   "mimetype": "text/x-python",
   "name": "python",
   "nbconvert_exporter": "python",
   "pygments_lexer": "ipython2",
   "version": "2.7.6"
  }
 },
 "nbformat": 4,
 "nbformat_minor": 0
}