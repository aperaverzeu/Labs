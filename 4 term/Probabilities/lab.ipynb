{
 "cells": [
  {
   "cell_type": "markdown",
   "metadata": {
    "pycharm": {
     "name": "#%% md\n"
    }
   },
   "source": [
    "# Lab 1\n",
    "*Hi, I am Alaksiej!*"
   ]
  },
  {
   "cell_type": "code",
   "execution_count": 1,
   "metadata": {
    "pycharm": {
     "name": "#%%\n"
    }
   },
   "outputs": [
    {
     "data": {
      "text/plain": "interactive(children=(IntSlider(value=50, description='n', min=1), Button(description='Run Interact', style=Bu…",
      "application/vnd.jupyter.widget-view+json": {
       "version_major": 2,
       "version_minor": 0,
       "model_id": "38a9b1961604446a9583753af6e4decf"
      }
     },
     "metadata": {},
     "output_type": "display_data"
    },
    {
     "data": {
      "text/plain": "interactive(children=(IntSlider(value=50, description='n', min=1), Button(description='Run Interact', style=Bu…",
      "application/vnd.jupyter.widget-view+json": {
       "version_major": 2,
       "version_minor": 0,
       "model_id": "7896f5ef412f431e93acf76991295dde"
      }
     },
     "metadata": {},
     "output_type": "display_data"
    }
   ],
   "source": [
    "from random import random\n",
    "\n",
    "import matplotlib.pyplot as plt\n",
    "import numpy as np\n",
    "\n",
    "from ipywidgets import interact\n",
    "\n",
    "mX = 2\n",
    "sigmaX = 3 * np.sqrt(3)\n",
    "y0 = 2\n",
    "\n",
    "# (a+b)/2 = mX, (b-a)/sqrt(12) = sigmaX\n",
    "a = -7\n",
    "b = 11\n",
    "\n",
    "def fi(x):\n",
    "    return np.arctan(x)\n",
    "\n",
    "def ksi(y):\n",
    "    return np.tan(y)\n",
    "\n",
    "def get_x():\n",
    "    return random() * (b - a) + a\n",
    "\n",
    "def get_y():\n",
    "    return fi(get_x())\n",
    "\n",
    "def var_series(get_var_series, n) -> list:\n",
    "    \"\"\"\n",
    "    :param get_var_series: func return random value\n",
    "    :param n: number of elements\n",
    "    :return: variation series\n",
    "    \"\"\"\n",
    "\n",
    "    l = []\n",
    "\n",
    "    for i in range(n):\n",
    "        l.append(get_var_series())\n",
    "\n",
    "    l.sort()\n",
    "    return l\n",
    "\n",
    "def plot_empirical_distribution_func(variation_series: list):\n",
    "    y = []\n",
    "    n = len(variation_series)\n",
    "    for i in range(n):\n",
    "        y.append(i / n)\n",
    "    plt.step(variation_series, y)\n",
    "\n",
    "def func(n):\n",
    "    plot_empirical_distribution_func(var_series(get_y, 100))\n",
    "    plt.show()\n",
    "\n",
    "interact(func, n=(5, 1000))"
   ]
  }
 ],
 "metadata": {
  "kernelspec": {
   "display_name": "Python 3",
   "language": "python",
   "name": "python3"
  },
  "language_info": {
   "codemirror_mode": {
    "name": "ipython",
    "version": 3
   },
   "file_extension": ".py",
   "mimetype": "text/x-python",
   "name": "python",
   "nbconvert_exporter": "python",
   "pygments_lexer": "ipython3",
   "version": "3.8.2"
  }
 },
 "nbformat": 4,
 "nbformat_minor": 1
}