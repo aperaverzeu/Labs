{
 "cells": [
  {
   "cell_type": "code",
   "execution_count": 1,
   "metadata": {
    "collapsed": true
   },
   "outputs": [
    {
     "name": "stdout",
     "output_type": "stream",
     "text": [
      "MC і Д\n"
     ]
    },
    {
     "data": {
      "text/plain": "interactive(children=(IntSlider(value=501, description='n', max=1000, min=2), Button(description='Run Interact…",
      "application/vnd.jupyter.widget-view+json": {
       "version_major": 2,
       "version_minor": 0,
       "model_id": "f8c10b5a0a324ff4b059f0cd2fe247ab"
      }
     },
     "metadata": {},
     "output_type": "display_data"
    },
    {
     "name": "stdout",
     "output_type": "stream",
     "text": [
      "2\n"
     ]
    },
    {
     "data": {
      "text/plain": "interactive(children=(IntSlider(value=501, description='n', max=1000, min=2), Button(description='Run Interact…",
      "application/vnd.jupyter.widget-view+json": {
       "version_major": 2,
       "version_minor": 0,
       "model_id": "348b946c533b40fc9af3994663f1d7e7"
      }
     },
     "metadata": {},
     "output_type": "display_data"
    },
    {
     "name": "stdout",
     "output_type": "stream",
     "text": [
      "3\n"
     ]
    },
    {
     "data": {
      "text/plain": "interactive(children=(FloatSlider(value=0.5, description='alpha', max=1.0, step=0.01), Button(description='Run…",
      "application/vnd.jupyter.widget-view+json": {
       "version_major": 2,
       "version_minor": 0,
       "model_id": "7de5c4cbfa6c4cc5af5e7dd7d4a1cfe5"
      }
     },
     "metadata": {},
     "output_type": "display_data"
    },
    {
     "data": {
      "text/plain": "interactive(children=(FloatSlider(value=0.5, description='alpha', max=1.0, step=0.01), Button(description='Run…",
      "application/vnd.jupyter.widget-view+json": {
       "version_major": 2,
       "version_minor": 0,
       "model_id": "c8d1fe5914d24f4689a17ee5b3e4f4e2"
      }
     },
     "metadata": {},
     "output_type": "display_data"
    },
    {
     "name": "stdout",
     "output_type": "stream",
     "text": [
      "5\n"
     ]
    },
    {
     "data": {
      "text/plain": "interactive(children=(FloatSlider(value=0.5, description='alpha', max=1.0), Button(description='Run Interact',…",
      "application/vnd.jupyter.widget-view+json": {
       "version_major": 2,
       "version_minor": 0,
       "model_id": "58a6e5b3287d417f96c189bc721c8f05"
      }
     },
     "metadata": {},
     "output_type": "display_data"
    },
    {
     "data": {
      "text/plain": "interactive(children=(FloatSlider(value=0.5, description='alpha', max=1.0), Button(description='Run Interact',…",
      "application/vnd.jupyter.widget-view+json": {
       "version_major": 2,
       "version_minor": 0,
       "model_id": "2007d5b10c0c48acb49da88e471d612d"
      }
     },
     "metadata": {},
     "output_type": "display_data"
    },
    {
     "name": "stdout",
     "output_type": "stream",
     "text": [
      "Графікі 1\n"
     ]
    },
    {
     "data": {
      "text/plain": "interactive(children=(IntSlider(value=5001, description='n', max=10000, min=2), Button(description='Run Intera…",
      "application/vnd.jupyter.widget-view+json": {
       "version_major": 2,
       "version_minor": 0,
       "model_id": "4009ddccc83943c79cfa4b972ab5235e"
      }
     },
     "metadata": {},
     "output_type": "display_data"
    },
    {
     "name": "stdout",
     "output_type": "stream",
     "text": [
      "Графікі 2\n"
     ]
    },
    {
     "data": {
      "text/plain": "interactive(children=(IntSlider(value=5001, description='n', max=10000, min=2), Button(description='Run Intera…",
      "application/vnd.jupyter.widget-view+json": {
       "version_major": 2,
       "version_minor": 0,
       "model_id": "63476c06837746ec812ca668662845dd"
      }
     },
     "metadata": {},
     "output_type": "display_data"
    },
    {
     "name": "stdout",
     "output_type": "stream",
     "text": [
      "Графікі 3\n"
     ]
    },
    {
     "data": {
      "text/plain": "interactive(children=(FloatSlider(value=0.5, description='probability', max=1.0, step=0.01), Button(descriptio…",
      "application/vnd.jupyter.widget-view+json": {
       "version_major": 2,
       "version_minor": 0,
       "model_id": "b4c8f11e0b2d43da8898ec31e13043de"
      }
     },
     "metadata": {},
     "output_type": "display_data"
    },
    {
     "data": {
      "text/plain": "interactive(children=(FloatSlider(value=0.5, description='probability', max=1.0, step=0.01), Button(descriptio…",
      "application/vnd.jupyter.widget-view+json": {
       "version_major": 2,
       "version_minor": 0,
       "model_id": "0e2faa6bb3c64e4a8cf3ea0a2ea46bad"
      }
     },
     "metadata": {},
     "output_type": "display_data"
    },
    {
     "data": {
      "text/plain": "interactive(children=(FloatSlider(value=0.5, description='probability', max=1.0, step=0.01), Button(descriptio…",
      "application/vnd.jupyter.widget-view+json": {
       "version_major": 2,
       "version_minor": 0,
       "model_id": "51ddd380c4114aebad7601125eb6faab"
      }
     },
     "metadata": {},
     "output_type": "display_data"
    },
    {
     "data": {
      "text/plain": "interactive(children=(FloatSlider(value=0.5, description='probability', max=1.0, step=0.01), Button(descriptio…",
      "application/vnd.jupyter.widget-view+json": {
       "version_major": 2,
       "version_minor": 0,
       "model_id": "899f892c4ec344bea24d227fb84a25f0"
      }
     },
     "metadata": {},
     "output_type": "display_data"
    },
    {
     "data": {
      "text/plain": "<function __main__.plot_interval_unknow_D_N(probability)>"
     },
     "execution_count": 1,
     "metadata": {},
     "output_type": "execute_result"
    }
   ],
   "source": [
    "from random import random\n",
    "import matplotlib.pyplot as plt\n",
    "import numpy as np\n",
    "from scipy import stats\n",
    "\n",
    "from ipywidgets import interact_manual, fixed\n",
    "\n",
    "mX = 2\n",
    "sigmaX = 3 * np.sqrt(3)\n",
    "y0 = 2\n",
    "\n",
    "# (a+b)/2 = mX, (b-a)/sqrt(12) = sigmaX\n",
    "a = -7\n",
    "b = 11\n",
    "\n",
    "def fi(x):\n",
    "    return np.arctan(x)\n",
    "\n",
    "def ksi(y):\n",
    "    return np.tan(y)\n",
    "\n",
    "def get_x():\n",
    "    return random() * (b - a) + a\n",
    "\n",
    "def get_y():\n",
    "    return fi(get_x())\n",
    "\n",
    "def var_series(get_var_series, n) -> list:\n",
    "    \"\"\"\n",
    "    :param get_var_series: func return random value\n",
    "    :param n: number of elements\n",
    "    :return: variation series\n",
    "    \"\"\"\n",
    "\n",
    "    l = []\n",
    "\n",
    "    for i in range(n):\n",
    "        l.append(get_var_series())\n",
    "\n",
    "    l.sort()\n",
    "    return l\n",
    "\n",
    "def get_point_M(variation_series: list) -> float:\n",
    "    return sum(variation_series) / len(variation_series)\n",
    "\n",
    "def get_point_D(variation_series: list) -> float:\n",
    "    m = get_point_M(variation_series)\n",
    "    s = 0\n",
    "    for el in variation_series:\n",
    "        s = s + ((el - m) ** 2)\n",
    "    return s / (len(variation_series) - 1)\n",
    "\n",
    "def print_point_M_D(n):\n",
    "    ser = var_series(get_y, n)\n",
    "    m = get_point_M(ser)\n",
    "    d = get_point_D(ser)\n",
    "    return m, d\n",
    "\n",
    "print('MC і Д')\n",
    "interact_manual(print_point_M_D, n=(2, 1000))\n",
    "\n",
    "# count it on da paper\n",
    "true_M = (\n",
    "    ((11 * np.arctan(11)) / 18) -\n",
    "    ((7 * np.arctan(7)) / 18) -\n",
    "    ((np.log(122)) / 36) +\n",
    "    (np.log(50) / 36)\n",
    ")\n",
    "\n",
    "true_D = 1.588380221 - (true_M ** 2)\n",
    "\n",
    "def print_dif(n):\n",
    "    m, d = print_point_M_D(n)\n",
    "    return abs(true_M - m), abs(true_D - d)\n",
    "\n",
    "print('2')\n",
    "interact_manual(print_dif, n=(2, 1000))\n",
    "\n",
    "def get_interval_M_know_D(variation_series: list, alpha):\n",
    "    X = get_point_M(variation_series)\n",
    "    delta = stats.norm.ppf(1 - (alpha/2)) * np.sqrt(true_D / len(variation_series))\n",
    "    return X - delta, X + delta\n",
    "\n",
    "def get_interval_M_unknow_D(variation_series: list, alpha):\n",
    "    X = get_point_M(variation_series)\n",
    "    delta = stats.t(df=len(variation_series)-1).ppf(1 - (alpha/2)) * np.sqrt(get_point_D(variation_series) / len(variation_series))\n",
    "    return X - delta, X + delta\n",
    "\n",
    "print('3')\n",
    "interact_manual(get_interval_M_know_D, variation_series=fixed(var_series(get_y, 100)), alpha=(0.0, 1.0, 0.01))\n",
    "interact_manual(get_interval_M_unknow_D, variation_series=fixed(var_series(get_y, 100)), alpha=(0.0, 1.0, 0.01))\n",
    "\n",
    "def get_interval_D_know_M(variation_series: list, alpha):\n",
    "    n = len(variation_series)\n",
    "    s = 0\n",
    "    for el in variation_series:\n",
    "        s = s + ((el - true_M) ** 2)\n",
    "    return s / (stats.chi2.ppf(1 - (alpha / 2), df=n)), s / (stats.chi2.ppf(alpha / 2, df=n))\n",
    "\n",
    "def get_interval_D_unknow_M(variation_series: list, alpha):\n",
    "    k = len(variation_series) - 1\n",
    "    S2 = get_point_D(variation_series)\n",
    "    return k * S2 / (stats.chi2.ppf(1 - (alpha / 2), df=k)), k * S2 / (stats.chi2.ppf(alpha / 2, df=k))\n",
    "\n",
    "print('5')\n",
    "interact_manual(get_interval_D_know_M, variation_series=fixed(var_series(get_y, 100)), alpha=(0.0, 1.0))\n",
    "interact_manual(get_interval_D_unknow_M, variation_series=fixed(var_series(get_y, 100)), alpha=(0.0, 1.0))\n",
    "\n",
    "def func(n):\n",
    "    ser = var_series(get_y, n)\n",
    "    x = [0.01*i for i in range(0, 101)]\n",
    "    s1 = [get_interval_M_know_D(ser, i) for i in x]\n",
    "    s2 = [get_interval_M_unknow_D(ser, i) for i in x]\n",
    "\n",
    "    s1d = [s[0] for s in s1]\n",
    "    s1u = [s[1] for s in s1]\n",
    "    s2d = [s[0] for s in s2]\n",
    "    s2u = [s[1] for s in s2]\n",
    "\n",
    "    # plt.ylim(0.27, 0.37)\n",
    "    plt.plot(x, s1d, 'cyan', linewidth=2)\n",
    "    plt.plot(x, s1u, 'y', linewidth=2)\n",
    "\n",
    "    plt.plot(x, s2d, 'r--')\n",
    "    plt.plot(x, s2u, 'g--')\n",
    "\n",
    "    plt.plot([0, 1], [true_M, true_M], '--')\n",
    "    plt.plot([0, 1], [get_point_M(ser), get_point_M(ser)], '--')\n",
    "\n",
    "    plt.show()\n",
    "\n",
    "print('Графікі 1')\n",
    "interact_manual(func, n=(2, 10000))\n",
    "\n",
    "def func_D(n):\n",
    "    ser = var_series(get_y, n)\n",
    "    x = [0.01*i for i in range(0, 101)]\n",
    "    s1 = [get_interval_D_know_M(ser, i) for i in x]\n",
    "    s2 = [get_interval_D_unknow_M(ser, i) for i in x]\n",
    "\n",
    "    s1d = [s[0] for s in s1]\n",
    "    s1u = [s[1] for s in s1]\n",
    "    s2d = [s[0] for s in s2]\n",
    "    s2u = [s[1] for s in s2]\n",
    "\n",
    "    # plt.ylim(0.27, 0.37)\n",
    "    plt.plot(x[1:], s1d[1:], 'cyan', linewidth=2)\n",
    "    plt.plot(x, s1u, 'y', linewidth=2)\n",
    "\n",
    "    plt.plot(x[1:], s2d[1:], 'r--')\n",
    "    plt.plot(x, s2u, 'g--')\n",
    "\n",
    "    plt.plot([0, 1], [true_D, true_D], 'yellow--')\n",
    "    # plt.plot([0, 1], [get_point_D(ser), get_point_D(ser)], '--')\n",
    "\n",
    "    plt.show()\n",
    "\n",
    "print('Графікі 2')\n",
    "interact_manual(func_D, n=(2, 10000))\n",
    "\n",
    "\n",
    "def plot_interval_know_M_N(probability):\n",
    "    n = [i for i in range(5, 500)]\n",
    "    l = []\n",
    "    for k in n:\n",
    "        samples = []\n",
    "        for _ in range(1):\n",
    "            ser = var_series(get_y, k)\n",
    "            d, u = get_interval_M_know_D(ser, 1 - probability)\n",
    "            samples.append(abs(u - d))\n",
    "        l.append(sum(samples) / len(samples))\n",
    "    plt.plot(n, l)\n",
    "    plt.show()\n",
    "\n",
    "def plot_interval_unknow_M_N(probability):\n",
    "    n = [i for i in range(5, 500)]\n",
    "    l = []\n",
    "    for k in n:\n",
    "        samples = []\n",
    "        for _ in range(1):\n",
    "            ser = var_series(get_y, k)\n",
    "            d, u = get_interval_M_unknow_D(ser, 1 - probability)\n",
    "            samples.append(abs(u - d))\n",
    "        l.append(sum(samples) / len(samples))\n",
    "    plt.plot(n, l)\n",
    "    plt.show()\n",
    "\n",
    "def plot_interval_know_D_N(probability):\n",
    "    n = [i for i in range(5, 500)]\n",
    "    l = []\n",
    "    for k in n:\n",
    "        samples = []\n",
    "        for _ in range(1):\n",
    "            ser = var_series(get_y, k)\n",
    "            d, u = get_interval_D_know_M(ser, 1 - probability)\n",
    "            samples.append(abs(u - d))\n",
    "        l.append(sum(samples) / len(samples))\n",
    "    plt.plot(n, l)\n",
    "    plt.show()\n",
    "\n",
    "def plot_interval_unknow_D_N(probability):\n",
    "    n = [i for i in range(5, 500)]\n",
    "    l = []\n",
    "    for k in n:\n",
    "        samples = []\n",
    "        for _ in range(1):\n",
    "            ser = var_series(get_y, k)\n",
    "            d, u = get_interval_D_unknow_M(ser, 1 - probability)\n",
    "            samples.append(abs(u - d))\n",
    "        l.append(sum(samples) / len(samples))\n",
    "    plt.plot(n, l)\n",
    "    plt.show()\n",
    "\n",
    "print('Графікі 3')\n",
    "interact_manual(plot_interval_know_M_N, probability=(0.0, 1.0, 0.01))\n",
    "interact_manual(plot_interval_unknow_M_N, probability=(0.0, 1.0, 0.01))\n",
    "interact_manual(plot_interval_know_D_N, probability=(0.0, 1.0, 0.01))\n",
    "interact_manual(plot_interval_unknow_D_N, probability=(0.0, 1.0, 0.01))"
   ]
  }
 ],
 "metadata": {
  "kernelspec": {
   "display_name": "Python 3",
   "language": "python",
   "name": "python3"
  },
  "language_info": {
   "codemirror_mode": {
    "name": "ipython",
    "version": 2
   },
   "file_extension": ".py",
   "mimetype": "text/x-python",
   "name": "python",
   "nbconvert_exporter": "python",
   "pygments_lexer": "ipython2",
   "version": "2.7.6"
  }
 },
 "nbformat": 4,
 "nbformat_minor": 0
}